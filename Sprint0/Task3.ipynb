{
 "cells": [
  {
   "cell_type": "markdown",
   "metadata": {},
   "source": [
    "<h1 style=\"color:DodgerBlue\">Индивидуальный проект</h1>"
   ]
  },
  {
   "cell_type": "markdown",
   "metadata": {},
   "source": [
    "<h2 style=\"color:DodgerBlue\">Название проекта: CardInfo</h2>\n",
    "\n",
    "----\n",
    "\n",
    "### Вариант задания N8"
   ]
  },
  {
   "cell_type": "markdown",
   "metadata": {},
   "source": [
    "<h2 style=\"color:DodgerBlue\">Описание проекта:</h2>\n",
    "\n",
    "----\n",
    "\n",
    "Создать базовый класс CreditCard в C#, который будет представлять информацию\n",
    "о кредитных картах. На основе этого класса разработать 2-3 производных класса,\n",
    "демонстрирующих принципы наследования и полиморфизма. В каждом из классов\n",
    "должны быть реализованы новые атрибуты и методы, а также переопределены\n",
    "некоторые методы базового класса для демонстрации полиморфизма.\n",
    "\n",
    "Требования к базовому классу CreditCard:\n",
    "\n",
    "• Атрибуты: Номер карты (CardNumber), Холдера (HolderName), Срок\n",
    "действия (ExpiryDate).\n",
    "\n",
    "• Методы:\n",
    "\n",
    "o GetInfo(): метод для получения информации о кредитной карте в виде\n",
    "строки.\n",
    "\n",
    "o Pay(): метод для оплаты покупки с использованием карты.\n",
    "\n",
    "o CheckBalance(): метод для проверки баланса на карте.\n",
    "\n",
    "Требования к производным классам:\n",
    "1. GoldCard (GoldCreditCard): Должен содержать дополнительные атрибуты,\n",
    "такие как Бесплатные бонусные мили (BonusMiles). Метод Pay() должен быть\n",
    "переопределен для добавления информации о получении бонусных миль\n",
    "при оплате покупки.\n",
    "2. PremiumCard (PremiumCreditCard): Должен содержать дополнительные\n",
    "атрибуты, такие как Ассистент поддержки (SupportAssistant).\n",
    "Метод CheckBalance() должен быть переопределен для предоставления\n",
    "возможности обратиться за помощью к ассистенту поддержки в случае\n",
    "проблем с балансом.\n",
    "3. CorporateCard (CorporateCreditCard) (если требуется третий класс): Должен\n",
    "содержать дополнительные атрибуты, такие как Компания (Company).\n",
    "Метод GetInfo() должен быть переопределен для включения информации о\n",
    "компании в описании карты."
   ]
  },
  {
   "cell_type": "markdown",
   "metadata": {},
   "source": [
    "<h2 style=\"color:DodgerBlue\">Реализация:</h2>\n",
    "\n",
    "----"
   ]
  },
  {
   "cell_type": "code",
   "execution_count": 14,
   "metadata": {
    "dotnet_interactive": {
     "language": "csharp"
    },
    "polyglot_notebook": {
     "kernelName": "csharp"
    }
   },
   "outputs": [
    {
     "name": "stdout",
     "output_type": "stream",
     "text": [
      "Информация о карте: \n",
      "Номер карты: 1234 5678 9012 3456, Имя холдера: Ябь Ючерных, Срок действия карты: 31/12/2026, Бонусов: 100\n",
      "С вашего счета 1234 5678 9012 3456 списано: 150. Оставшийся баланс: 4850\n",
      "Заработано 15 бонусов. Всего бонусов: 115\n",
      "\n",
      "Информация о карте: \n",
      "Номер карты: 9876 5432 1098 7654, Имя холдера: Максим Комаров, Срок действия карты: 30/06/2025, Тех. Поддержка: Секретарь банан\n",
      "Баланс карты 9876 5432 1098 7654: 800\n",
      "\n",
      "Информация о карте: \n",
      "Номер карты: 4567 8901 2345 6789, Имя холдера: Иван Иванов, Срок действия карты: 15/09/2024, Компания: айайай\n"
     ]
    }
   ],
   "source": [
    "public class CreditCard\n",
    "{\n",
    "    public string CardNumber;\n",
    "    public string HolderName;\n",
    "    public string ExpiryDate;\n",
    "    public decimal Balance;\n",
    "\n",
    "    public CreditCard (string _CardNumber, string _HolderName, string _ExpiryDate, decimal _Balance)\n",
    "    {\n",
    "        CardNumber = _CardNumber;\n",
    "        HolderName = _HolderName;\n",
    "        ExpiryDate = _ExpiryDate;\n",
    "        Balance = _Balance;\n",
    "    }\n",
    "    public virtual string GetInfo()\n",
    "    {\n",
    "        return $\"Информация о карте: \\nНомер карты: {CardNumber}, Имя холдера: {HolderName}, Срок действия карты: {ExpiryDate}\";\n",
    "    }\n",
    "    public virtual void Pay(decimal Sum)\n",
    "    {\n",
    "        if (Sum > Balance)\n",
    "        {\n",
    "            Console.WriteLine(\"На вашем счете недостаточно средств\");\n",
    "        }\n",
    "        else\n",
    "        {\n",
    "            Balance -= Sum;\n",
    "            Console.WriteLine($\"С вашего счета {CardNumber} списано: {Sum}. Оставшийся баланс: {Balance}\");\n",
    "        }\n",
    "    }\n",
    "    public virtual void CheckBalance()\n",
    "    {\n",
    "        Console.WriteLine($\"Баланс карты {CardNumber}: {Balance}\");\n",
    "    }\n",
    "}\n",
    "\n",
    "public class GoldCreditCard : CreditCard\n",
    "{\n",
    "    public decimal BonusMiles;\n",
    "    public GoldCreditCard(string _CardNumber, string _HolderName, string _ExpiryDate, decimal _Balance, decimal _BonusMiles)\n",
    "    : base(_CardNumber, _HolderName, _ExpiryDate, _Balance)\n",
    "    {\n",
    "        BonusMiles = _BonusMiles;\n",
    "    }\n",
    "    public override void Pay(decimal Sum)\n",
    "    {\n",
    "        base.Pay(Sum);\n",
    "        int earnedMiles = (int)(Sum / 10);\n",
    "        BonusMiles += earnedMiles;\n",
    "        Console.WriteLine($\"Заработано {earnedMiles} бонусов. Всего бонусов: {BonusMiles}\");\n",
    "    }\n",
    "    public override string GetInfo()\n",
    "    {\n",
    "        return base.GetInfo() + $\", Бонусов: {BonusMiles}\";\n",
    "    }\n",
    "}\n",
    "\n",
    "public class PremiumCreditCard : CreditCard\n",
    "{\n",
    "    public string SupportAssistant;\n",
    "\n",
    "    public PremiumCreditCard(string _CardNumber, string _HolderName, string _ExpiryDate, decimal _Balance, string _SupportAssistant)\n",
    "        : base(_CardNumber, _HolderName, _ExpiryDate, _Balance)\n",
    "    {\n",
    "        SupportAssistant = _SupportAssistant;\n",
    "    }\n",
    "\n",
    "    public override void CheckBalance()\n",
    "    {\n",
    "        base.CheckBalance();\n",
    "        if (Balance < 100)\n",
    "        {\n",
    "            Console.WriteLine($\"Ваш баланс меньше требуемого, обратитесь в поддержку: {SupportAssistant}.\");\n",
    "        }\n",
    "    }\n",
    "\n",
    "    public override string GetInfo()\n",
    "    {\n",
    "        return base.GetInfo() + $\", Тех. Поддержка: {SupportAssistant}\";\n",
    "    }\n",
    "}\n",
    "\n",
    "public class CorporateCreditCard : CreditCard\n",
    "{\n",
    "    public string Company;\n",
    "\n",
    "    public CorporateCreditCard(string _CardNumber, string _HolderName, string _ExpiryDate, decimal _Balance, string company)\n",
    "        : base(_CardNumber, _HolderName, _ExpiryDate, _Balance)\n",
    "    {\n",
    "        Company = company;\n",
    "    }\n",
    "\n",
    "    public override string GetInfo()\n",
    "    {\n",
    "        return base.GetInfo() + $\", Компания: {Company}\";\n",
    "    }\n",
    "}\n",
    "\n",
    "       \n",
    "        CreditCard goldCard = new GoldCreditCard(\"1234 5678 9012 3456\", \"Головач Елена\", \"31/12/2026\", 5000, 100);\n",
    "        CreditCard premiumCard = new PremiumCreditCard(\"9876 5432 1098 7654\", \"Максим Комаров\", \"30/06/2025\", 800, \"Секретарь банан\");\n",
    "        CreditCard corporateCard = new CorporateCreditCard(\"4567 8901 2345 6789\", \"Иван Иванов\", \"15/09/2024\", 10000, \"айайай\");\n",
    "\n",
    "    \n",
    "        Console.WriteLine(goldCard.GetInfo());\n",
    "        goldCard.Pay(150);\n",
    "\n",
    "        Console.WriteLine(\"\\n\" + premiumCard.GetInfo());\n",
    "        premiumCard.CheckBalance();\n",
    "\n",
    "        Console.WriteLine(\"\\n\" + corporateCard.GetInfo());\n"
   ]
  }
 ],
 "metadata": {
  "kernelspec": {
   "display_name": ".NET (C#)",
   "language": "C#",
   "name": ".net-csharp"
  },
  "language_info": {
   "name": "polyglot-notebook"
  },
  "polyglot_notebook": {
   "kernelInfo": {
    "defaultKernelName": "csharp",
    "items": [
     {
      "aliases": [],
      "languageName": "csharp",
      "name": "csharp"
     }
    ]
   }
  }
 },
 "nbformat": 4,
 "nbformat_minor": 2
}
